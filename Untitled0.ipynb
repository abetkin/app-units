{
 "metadata": {
  "name": "",
  "signature": "sha256:c50a5ba33252fa08a110db7aa16f033bc12f9a79052aa71d8746b496b6c41d74"
 },
 "nbformat": 3,
 "nbformat_minor": 0,
 "worksheets": [
  {
   "cells": [
    {
     "cell_type": "code",
     "collapsed": false,
     "input": [
      "class Unit(object):1\n",
      "\n",
      "a,b = Unit(), Unit()\n",
      "\n",
      "a.deps = [b]\n",
      "b.deps = [a]\n",
      "\n",
      "a.name, b.name = 'a', 'b'\n",
      "\n",
      "units = [a, b ,a]"
     ],
     "language": "python",
     "metadata": {},
     "outputs": [],
     "prompt_number": 6
    },
    {
     "cell_type": "code",
     "collapsed": false,
     "input": [
      "def pipe(func, *args, **kwargs):\n",
      "    def decorate(g):\n",
      "        return func(g(*args, **kwargs))\n",
      "    return decorate\n",
      "\n"
     ],
     "language": "python",
     "metadata": {},
     "outputs": [],
     "prompt_number": 7
    },
    {
     "cell_type": "code",
     "collapsed": false,
     "input": [
      "def deps(units, result):\n",
      "    for unit in units:\n",
      "        if unit.name in result:\n",
      "            continue\n",
      "        yield unit.name, unit\n",
      "        yield from deps(unit.deps, result)\n",
      "\n",
      "result = {}\n",
      "result.update(deps(units, result))\n",
      "print(result)\n",
      "        "
     ],
     "language": "python",
     "metadata": {},
     "outputs": [
      {
       "output_type": "stream",
       "stream": "stdout",
       "text": [
        "{'a': <__main__.Unit object at 0x7f2933f99080>, 'b': <__main__.Unit object at 0x7f2930037048>}\n"
       ]
      }
     ],
     "prompt_number": 8
    },
    {
     "cell_type": "code",
     "collapsed": false,
     "input": [
      "def list_all_deps(units, all_units=None):\n",
      "    if all_units is None:\n",
      "        all_units = {}\n",
      "    for unit in units:\n",
      "        if unit.name in all_units:\n",
      "            continue\n",
      "        all_units[unit.name] = unit\n",
      "        all_units.update(\n",
      "                list_all_deps(unit.deps, all_units))\n",
      "    return all_units"
     ],
     "language": "python",
     "metadata": {},
     "outputs": []
    }
   ],
   "metadata": {}
  }
 ]
}