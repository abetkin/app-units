{
 "metadata": {
  "name": "",
  "signature": "sha256:172e3a878ed2171521be53f12d59fa33b6c03c278e09d71999a69ebdbe2f758f"
 },
 "nbformat": 3,
 "nbformat_minor": 0,
 "worksheets": [
  {
   "cells": [
    {
     "cell_type": "code",
     "collapsed": false,
     "input": [
      "class A:\n",
      "    def __init__(self, value, v=None):\n",
      "        self.value = value\n",
      "        self.v = v\n",
      "    def __hash__(self):\n",
      "        return hash(self.value)\n",
      "    def __eq__(self, other):\n",
      "        if isinstance(other, A):\n",
      "            return self.value == other.value\n",
      "\n",
      "    def __repr__(self):\n",
      "        return 'A %s' % self.v"
     ],
     "language": "python",
     "metadata": {},
     "outputs": [],
     "prompt_number": 3
    },
    {
     "cell_type": "code",
     "collapsed": false,
     "input": [
      "{A(1,3), A(1,4)}"
     ],
     "language": "python",
     "metadata": {},
     "outputs": [
      {
       "metadata": {},
       "output_type": "pyout",
       "prompt_number": 4,
       "text": [
        "{A 4}"
       ]
      }
     ],
     "prompt_number": 4
    },
    {
     "cell_type": "code",
     "collapsed": false,
     "input": [
      "A(1,5) in _"
     ],
     "language": "python",
     "metadata": {},
     "outputs": [
      {
       "metadata": {},
       "output_type": "pyout",
       "prompt_number": 5,
       "text": [
        "True"
       ]
      }
     ],
     "prompt_number": 5
    },
    {
     "cell_type": "code",
     "collapsed": false,
     "input": [
      "help(set)"
     ],
     "language": "python",
     "metadata": {},
     "outputs": [
      {
       "output_type": "stream",
       "stream": "stdout",
       "text": [
        "Help on class set in module builtins:\n",
        "\n",
        "class set(object)\n",
        " |  set() -> new empty set object\n",
        " |  set(iterable) -> new set object\n",
        " |  \n",
        " |  Build an unordered collection of unique elements.\n",
        " |  \n",
        " |  Methods defined here:\n",
        " |  \n",
        " |  __and__(self, value, /)\n",
        " |      Return self&value.\n",
        " |  \n",
        " |  __contains__(...)\n",
        " |      x.__contains__(y) <==> y in x.\n",
        " |  \n",
        " |  __eq__(self, value, /)\n",
        " |      Return self==value.\n",
        " |  \n",
        " |  __ge__(self, value, /)\n",
        " |      Return self>=value.\n",
        " |  \n",
        " |  __getattribute__(self, name, /)\n",
        " |      Return getattr(self, name).\n",
        " |  \n",
        " |  __gt__(self, value, /)\n",
        " |      Return self>value.\n",
        " |  \n",
        " |  __iand__(self, value, /)\n",
        " |      Return self&=value.\n",
        " |  \n",
        " |  __init__(self, /, *args, **kwargs)\n",
        " |      Initialize self.  See help(type(self)) for accurate signature.\n",
        " |  \n",
        " |  __ior__(self, value, /)\n",
        " |      Return self|=value.\n",
        " |  \n",
        " |  __isub__(self, value, /)\n",
        " |      Return self-=value.\n",
        " |  \n",
        " |  __iter__(self, /)\n",
        " |      Implement iter(self).\n",
        " |  \n",
        " |  __ixor__(self, value, /)\n",
        " |      Return self^=value.\n",
        " |  \n",
        " |  __le__(self, value, /)\n",
        " |      Return self<=value.\n",
        " |  \n",
        " |  __len__(self, /)\n",
        " |      Return len(self).\n",
        " |  \n",
        " |  __lt__(self, value, /)\n",
        " |      Return self<value.\n",
        " |  \n",
        " |  __ne__(self, value, /)\n",
        " |      Return self!=value.\n",
        " |  \n",
        " |  __new__(*args, **kwargs) from builtins.type\n",
        " |      Create and return a new object.  See help(type) for accurate signature.\n",
        " |  \n",
        " |  __or__(self, value, /)\n",
        " |      Return self|value.\n",
        " |  \n",
        " |  __rand__(self, value, /)\n",
        " |      Return value&self.\n",
        " |  \n",
        " |  __reduce__(...)\n",
        " |      Return state information for pickling.\n",
        " |  \n",
        " |  __repr__(self, /)\n",
        " |      Return repr(self).\n",
        " |  \n",
        " |  __ror__(self, value, /)\n",
        " |      Return value|self.\n",
        " |  \n",
        " |  __rsub__(self, value, /)\n",
        " |      Return value-self.\n",
        " |  \n",
        " |  __rxor__(self, value, /)\n",
        " |      Return value^self.\n",
        " |  \n",
        " |  __sizeof__(...)\n",
        " |      S.__sizeof__() -> size of S in memory, in bytes\n",
        " |  \n",
        " |  __sub__(self, value, /)\n",
        " |      Return self-value.\n",
        " |  \n",
        " |  __xor__(self, value, /)\n",
        " |      Return self^value.\n",
        " |  \n",
        " |  add(...)\n",
        " |      Add an element to a set.\n",
        " |      \n",
        " |      This has no effect if the element is already present.\n",
        " |  \n",
        " |  clear(...)\n",
        " |      Remove all elements from this set.\n",
        " |  \n",
        " |  copy(...)\n",
        " |      Return a shallow copy of a set.\n",
        " |  \n",
        " |  difference(...)\n",
        " |      Return the difference of two or more sets as a new set.\n",
        " |      \n",
        " |      (i.e. all elements that are in this set but not the others.)\n",
        " |  \n",
        " |  difference_update(...)\n",
        " |      Remove all elements of another set from this set.\n",
        " |  \n",
        " |  discard(...)\n",
        " |      Remove an element from a set if it is a member.\n",
        " |      \n",
        " |      If the element is not a member, do nothing.\n",
        " |  \n",
        " |  intersection(...)\n",
        " |      Return the intersection of two sets as a new set.\n",
        " |      \n",
        " |      (i.e. all elements that are in both sets.)\n",
        " |  \n",
        " |  intersection_update(...)\n",
        " |      Update a set with the intersection of itself and another.\n",
        " |  \n",
        " |  isdisjoint(...)\n",
        " |      Return True if two sets have a null intersection.\n",
        " |  \n",
        " |  issubset(...)\n",
        " |      Report whether another set contains this set.\n",
        " |  \n",
        " |  issuperset(...)\n",
        " |      Report whether this set contains another set.\n",
        " |  \n",
        " |  pop(...)\n",
        " |      Remove and return an arbitrary set element.\n",
        " |      Raises KeyError if the set is empty.\n",
        " |  \n",
        " |  remove(...)\n",
        " |      Remove an element from a set; it must be a member.\n",
        " |      \n",
        " |      If the element is not a member, raise a KeyError.\n",
        " |  \n",
        " |  symmetric_difference(...)\n",
        " |      Return the symmetric difference of two sets as a new set.\n",
        " |      \n",
        " |      (i.e. all elements that are in exactly one of the sets.)\n",
        " |  \n",
        " |  symmetric_difference_update(...)\n",
        " |      Update a set with the symmetric difference of itself and another.\n",
        " |  \n",
        " |  union(...)\n",
        " |      Return the union of sets as a new set.\n",
        " |      \n",
        " |      (i.e. all elements that are in either set.)\n",
        " |  \n",
        " |  update(...)\n",
        " |      Update a set with the union of itself and others.\n",
        " |  \n",
        " |  ----------------------------------------------------------------------\n",
        " |  Data and other attributes defined here:\n",
        " |  \n",
        " |  __hash__ = None\n",
        "\n"
       ]
      }
     ],
     "prompt_number": 7
    },
    {
     "cell_type": "code",
     "collapsed": false,
     "input": [
      "_4.update([A(1,5)])"
     ],
     "language": "python",
     "metadata": {},
     "outputs": [],
     "prompt_number": 11
    },
    {
     "cell_type": "code",
     "collapsed": false,
     "input": [
      "_4\n"
     ],
     "language": "python",
     "metadata": {},
     "outputs": [
      {
       "metadata": {},
       "output_type": "pyout",
       "prompt_number": 12,
       "text": [
        "{A 4}"
       ]
      }
     ],
     "prompt_number": 12
    },
    {
     "cell_type": "code",
     "collapsed": false,
     "input": [],
     "language": "python",
     "metadata": {},
     "outputs": []
    }
   ],
   "metadata": {}
  }
 ]
}