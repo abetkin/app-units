{
 "metadata": {
  "name": "",
  "signature": "sha256:c3752e83f5062c4b2bd526987199d3df30de454171bcf3149a4879a96ba986e4"
 },
 "nbformat": 3,
 "nbformat_minor": 0,
 "worksheets": [
  {
   "cells": [
    {
     "cell_type": "code",
     "collapsed": false,
     "input": [
      "from appunits import Unit, Mark, ContextAttribute\n",
      "\n",
      "import os\n",
      "os.environ['DJANGO_SETTINGS_MODULE'] = 'aprentproj.settings'\n",
      "import django; django.setup()\n",
      "from rest_framework import serializers\n",
      "\n",
      "from django.db.models import Q"
     ],
     "language": "python",
     "metadata": {},
     "outputs": [],
     "prompt_number": 3
    },
    {
     "cell_type": "code",
     "collapsed": false,
     "input": [
      "from operator import and_, or_"
     ],
     "language": "python",
     "metadata": {},
     "outputs": [],
     "prompt_number": 4
    },
    {
     "cell_type": "code",
     "collapsed": false,
     "input": [
      "class field(Mark):\n",
      "    1\n",
      "\n",
      "from functools import reduce\n",
      "\n",
      "class qsfilter(Mark):\n",
      "    '''\n",
      "    Django queryset filter.\n",
      "    '''\n",
      "    collect_into = '_qs_filters'\n",
      "    \n",
      "    def build(self):\n",
      "        return self.source_function\n",
      "    \n",
      "qsfilter.register(Q)\n",
      "\n",
      "class FilteringUnit(Unit):\n",
      "    queryset = ContextAttribute('queryset')\n",
      "    \n",
      "    def collect_marks_into(self, mark):\n",
      "        if isinstance(mark, Q):\n",
      "            return '_qs_filters' # keep order\n",
      "    \n",
      "    operation = and_\n",
      "    \n",
      "    def run(self):\n",
      "        for qs_filter in self._qs_filters:\n",
      "            1\n",
      "#         q = reduce(self.operation, self._q_objects)"
     ],
     "language": "python",
     "metadata": {},
     "outputs": []
    },
    {
     "cell_type": "code",
     "collapsed": false,
     "input": [
      "class Filter(Unit):\n",
      "    \n",
      "    people = serializers.IntegerField()\n",
      "    district = 1\n",
      "    "
     ],
     "language": "python",
     "metadata": {},
     "outputs": []
    }
   ],
   "metadata": {}
  }
 ]
}