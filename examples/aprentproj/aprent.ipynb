{
 "metadata": {
  "name": "",
  "signature": "sha256:7d325a7792bf0e637a9808a4b2e2e51c4e6ebf11cb7584f053b310b3f7eb48fc"
 },
 "nbformat": 3,
 "nbformat_minor": 0,
 "worksheets": [
  {
   "cells": [
    {
     "cell_type": "code",
     "collapsed": false,
     "input": [
      "from appunits import Unit, Mark, ContextAttribute\n",
      "\n",
      "import os\n",
      "os.environ['DJANGO_SETTINGS_MODULE'] = 'aprentproj.settings'\n",
      "import django; django.setup()\n",
      "from rest_framework import serializers\n",
      "\n",
      "from django.db.models.query import Q, QuerySet"
     ],
     "language": "python",
     "metadata": {},
     "outputs": [],
     "prompt_number": 1
    },
    {
     "cell_type": "code",
     "collapsed": false,
     "input": [
      "from operator import and_, or_\n",
      "from collections import OrderedDict"
     ],
     "language": "python",
     "metadata": {},
     "outputs": [],
     "prompt_number": 2
    },
    {
     "cell_type": "code",
     "collapsed": false,
     "input": [
      "class qsfilter(Mark):\n",
      "    '''\n",
      "    Django queryset filter.\n",
      "    '''\n",
      "    collect_into = '_filters'\n",
      "\n",
      "class qobj(Mark):\n",
      "    collect_into = '_filters'\n",
      "\n",
      "class make_qs(Mark):\n",
      "    collect_into = '_filters'\n",
      "    \n",
      "    def __init__(self, source='objects', operation=and_, **kwargs):\n",
      "        super().__init__(source=source, operation=operation, **kwargs)\n",
      "\n",
      "class filterfunc(Mark):\n",
      "    collect_into = '_filters'"
     ],
     "language": "python",
     "metadata": {},
     "outputs": [],
     "prompt_number": 3
    },
    {
     "cell_type": "code",
     "collapsed": false,
     "input": [
      "from functools import partial, wraps"
     ],
     "language": "python",
     "metadata": {},
     "outputs": [],
     "prompt_number": 4
    },
    {
     "cell_type": "code",
     "collapsed": false,
     "input": [
      "\n",
      "from functools import reduce\n",
      "\n",
      "\n",
      "\n",
      "class FilteringUnit(Unit):\n",
      "    objects = ContextAttribute('objects')\n",
      "\n",
      "    def _process_pending_filters(self, source='objects', target='objects', operation=and_):\n",
      "        if not self.pending_filters:\n",
      "            return\n",
      "        base_qs = self.results[source]\n",
      "        assert isinstance(base_qs, QuerySet)\n",
      "        self.results[target] = reduce(operation, [f(base_qs) for f in self.pending_filters])\n",
      "        self.pending_filters = []\n",
      "    \n",
      "    def main(self):\n",
      "        self.results = OrderedDict()\n",
      "        self.results['objects'] = self.objects\n",
      "        self.pending_filters = []\n",
      "\n",
      "        for obj_name, obj in self._filters.items():\n",
      "            if isinstance(obj, qsfilter):\n",
      "                @wraps(obj.source_function)\n",
      "                def _filter(qs, obj=obj):\n",
      "                    return obj.source_function(self, qs)\n",
      "                self.pending_filters.append(_filter)\n",
      "                continue\n",
      "            if isinstance(obj, qobj):\n",
      "                @wraps(obj.source_function)\n",
      "                def _filter(qs, obj=obj):\n",
      "                    q_obj = obj.source_function(self)\n",
      "                    return qs.filter(q_obj)\n",
      "                self.pending_filters.append(_filter)\n",
      "                continue\n",
      "            if isinstance(obj, make_qs):\n",
      "                self._process_pending_filters(obj.source, obj_name, obj.operation)\n",
      "                assert not obj.source_function\n",
      "                continue\n",
      "            if isinstance(obj, filterfunc):\n",
      "                self._process_pending_filters()\n",
      "                qs = self.results[obj.source]\n",
      "                self.results[obj_name] = obj.source_function(self, qs)\n",
      "                continue\n",
      "        self._process_pending_filters()\n",
      "            \n",
      "        return self.results['objects']\n",
      "#         q = reduce(self.operation, self._q_objects)"
     ],
     "language": "python",
     "metadata": {},
     "outputs": [],
     "prompt_number": 19
    },
    {
     "cell_type": "code",
     "collapsed": false,
     "input": [
      "class MyFilter(FilteringUnit):\n",
      "    @qobj()\n",
      "    def a(self):\n",
      "        return Q(a=1)\n",
      "    \n",
      "    @qobj()\n",
      "    def b(self):\n",
      "        return Q(b=2)\n",
      "    \n",
      "    objects = make_qs()"
     ],
     "language": "python",
     "metadata": {},
     "outputs": [],
     "prompt_number": 20
    },
    {
     "cell_type": "code",
     "collapsed": false,
     "input": [
      "# TODO context objects as pos arguments\n",
      "\n",
      "MyFilter(context_objects=[{'objects': MyModel.objects.all()}])"
     ],
     "language": "python",
     "metadata": {},
     "outputs": [
      {
       "metadata": {},
       "output_type": "pyout",
       "prompt_number": 21,
       "text": [
        "Unit <class '__main__.MyFilter'>"
       ]
      }
     ],
     "prompt_number": 21
    },
    {
     "cell_type": "code",
     "collapsed": false,
     "input": [
      "_.run()"
     ],
     "language": "python",
     "metadata": {},
     "outputs": [],
     "prompt_number": 22
    },
    {
     "cell_type": "code",
     "collapsed": false,
     "input": [
      "_21.result"
     ],
     "language": "python",
     "metadata": {},
     "outputs": [
      {
       "metadata": {},
       "output_type": "pyout",
       "prompt_number": 23,
       "text": [
        "[<MyModel: MyModel object>]"
       ]
      }
     ],
     "prompt_number": 23
    },
    {
     "cell_type": "code",
     "collapsed": false,
     "input": [
      "__.b"
     ],
     "language": "python",
     "metadata": {},
     "outputs": [
      {
       "metadata": {},
       "output_type": "pyout",
       "prompt_number": 17,
       "text": [
        "2"
       ]
      }
     ],
     "prompt_number": 17
    },
    {
     "cell_type": "code",
     "collapsed": false,
     "input": [
      "qs1 = qs0.filter(Q(a=1))"
     ],
     "language": "python",
     "metadata": {},
     "outputs": [],
     "prompt_number": 21
    },
    {
     "cell_type": "code",
     "collapsed": false,
     "input": [
      "qs2 = qs0.filter(Q(b=2))"
     ],
     "language": "python",
     "metadata": {},
     "outputs": [],
     "prompt_number": 22
    },
    {
     "cell_type": "code",
     "collapsed": false,
     "input": [
      "list(qs1 | qs2)"
     ],
     "language": "python",
     "metadata": {},
     "outputs": [
      {
       "metadata": {},
       "output_type": "pyout",
       "prompt_number": 23,
       "text": [
        "[<MyModel: MyModel object>, <MyModel: MyModel object>]"
       ]
      }
     ],
     "prompt_number": 23
    },
    {
     "cell_type": "code",
     "collapsed": false,
     "input": [
      "qs1"
     ],
     "language": "python",
     "metadata": {},
     "outputs": [
      {
       "metadata": {},
       "output_type": "pyout",
       "prompt_number": 24,
       "text": [
        "[<MyModel: MyModel object>, <MyModel: MyModel object>]"
       ]
      }
     ],
     "prompt_number": 24
    },
    {
     "cell_type": "code",
     "collapsed": false,
     "input": [
      "from aprent.models import MyModel"
     ],
     "language": "python",
     "metadata": {},
     "outputs": [],
     "prompt_number": 9
    },
    {
     "cell_type": "code",
     "collapsed": false,
     "input": [],
     "language": "python",
     "metadata": {},
     "outputs": []
    }
   ],
   "metadata": {}
  }
 ]
}