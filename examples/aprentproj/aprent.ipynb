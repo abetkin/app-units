{
 "metadata": {
  "name": "",
  "signature": "sha256:efda2be27462bad1d89846d630a4071cbdbe4d46fc6facdf0a841826a6d8aa9b"
 },
 "nbformat": 3,
 "nbformat_minor": 0,
 "worksheets": [
  {
   "cells": [
    {
     "cell_type": "code",
     "collapsed": false,
     "input": [
      "from appunits import Unit, Mark\n",
      "\n",
      "import os\n",
      "os.environ['DJANGO_SETTINGS_MODULE'] = 'aprentproj.settings'\n",
      "import django; django.setup()\n",
      "from rest_framework import serializers"
     ],
     "language": "python",
     "metadata": {},
     "outputs": [],
     "prompt_number": 4
    },
    {
     "cell_type": "code",
     "collapsed": false,
     "input": [
      "class filter(Mark):\n",
      "    1"
     ],
     "language": "python",
     "metadata": {},
     "outputs": []
    },
    {
     "cell_type": "code",
     "collapsed": false,
     "input": [
      "class Filter(Unit):\n",
      "    \n",
      "    people = serializers.IntegerField()\n",
      "    district = \n",
      "    "
     ],
     "language": "python",
     "metadata": {},
     "outputs": []
    }
   ],
   "metadata": {}
  }
 ]
}