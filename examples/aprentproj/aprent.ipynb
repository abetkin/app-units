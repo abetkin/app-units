{
 "metadata": {
  "name": "",
  "signature": "sha256:58756fb1dfd9bbcf81221c77070554b182b0d287dc96132a6602752013270cb9"
 },
 "nbformat": 3,
 "nbformat_minor": 0,
 "worksheets": [
  {
   "cells": [
    {
     "cell_type": "code",
     "collapsed": false,
     "input": [
      "from appunits import Unit, Mark, ContextAttribute\n",
      "\n",
      "import os\n",
      "os.environ['DJANGO_SETTINGS_MODULE'] = 'aprentproj.settings'\n",
      "import django; django.setup()\n",
      "from rest_framework import serializers\n",
      "\n",
      "from django.db.models.query import Q, QuerySet"
     ],
     "language": "python",
     "metadata": {},
     "outputs": [],
     "prompt_number": 1
    },
    {
     "cell_type": "code",
     "collapsed": false,
     "input": [
      "from operator import and_, or_\n",
      "from collections import OrderedDict"
     ],
     "language": "python",
     "metadata": {},
     "outputs": [],
     "prompt_number": 2
    },
    {
     "cell_type": "code",
     "collapsed": false,
     "input": [
      "class qsfilter(Mark):\n",
      "    '''\n",
      "    Django queryset filter.\n",
      "    '''\n",
      "    collect_into = '_filters'\n",
      "\n",
      "class qobj(Mark):\n",
      "    collect_into = '_filters'\n",
      "\n",
      "qobj.register(Q)\n",
      "\n",
      "class make_filter(Mark):\n",
      "    collect_into = '_filters'\n",
      "    \n",
      "    def __init__(self, base_qs='objects', operation=and_, **kwargs):\n",
      "        super().__init__(base_qs=base_qs, \n",
      "                         operation=operation, **kwargs)\n"
     ],
     "language": "python",
     "metadata": {},
     "outputs": [],
     "prompt_number": 3
    },
    {
     "cell_type": "code",
     "collapsed": false,
     "input": [
      "from functools import partial, wraps"
     ],
     "language": "python",
     "metadata": {},
     "outputs": [],
     "prompt_number": 38
    },
    {
     "cell_type": "code",
     "collapsed": false,
     "input": [
      "\n",
      "from functools import reduce\n",
      "\n",
      "\n",
      "\n",
      "class FilteringUnit(Unit):\n",
      "    objects = ContextAttribute('objects')\n",
      "    \n",
      "    @classmethod\n",
      "    def collect_marks_into(cls, mark):\n",
      "        if isinstance(mark, Q):\n",
      "            return '_filters'\n",
      "    \n",
      "    def main(self):\n",
      "\n",
      "        objects = OrderedDict()\n",
      "        objects['objects'] = self.objects\n",
      "        unapplied = [] # unapplied filters\n",
      "        # TODO: self\n",
      "        for obj_name, obj in self._filters.items():\n",
      "            if isinstance(obj, Q):\n",
      "                unapplied.append(lambda qs, obj=obj: qs.filter(obj))\n",
      "            elif isinstance(obj, qsfilter):\n",
      "                unapplied.append(partial(self, obj.source_function))\n",
      "            elif isinstance(obj, qobj):\n",
      "                @wraps(obj.source_function)\n",
      "                def filterfunc(qs, obj=obj):\n",
      "                    q = obj.source_function(self)\n",
      "                    return qs.filter(q)\n",
      "                unapplied.append(filterfunc)\n",
      "            elif isinstance(obj, make_filter):\n",
      "                base_qs = objects[obj.base_qs]\n",
      "                if unapplied:\n",
      "                    assert isinstance(base_qs, QuerySet)\n",
      "                    base_qs = reduce(obj.operation, [f(base_qs) for f in unapplied])\n",
      "                    unapplied = []\n",
      "                if obj.source_function:\n",
      "                    objects[obj_name] = obj.source_function(objects, base_qs) # TODO use self\n",
      "                else:\n",
      "                    objects[obj_name] = base_qs\n",
      "            \n",
      "        return objects\n",
      "#         q = reduce(self.operation, self._q_objects)"
     ],
     "language": "python",
     "metadata": {},
     "outputs": [],
     "prompt_number": 23
    },
    {
     "cell_type": "code",
     "collapsed": false,
     "input": [
      "class MyFilter(FilteringUnit):\n",
      "    a = Q(a=1)\n",
      "    b = Q(b=2)\n",
      "    objects = make_qs()"
     ],
     "language": "python",
     "metadata": {},
     "outputs": [],
     "prompt_number": 33
    },
    {
     "cell_type": "code",
     "collapsed": false,
     "input": [
      "# TODO context objects as pos arguments\n",
      "\n",
      "MyFilter(context_objects=[{'objects': MyModel.objects.all()}])"
     ],
     "language": "python",
     "metadata": {},
     "outputs": [
      {
       "metadata": {},
       "output_type": "pyout",
       "prompt_number": 34,
       "text": [
        "Unit <class '__main__.MyFilter'>"
       ]
      }
     ],
     "prompt_number": 34
    },
    {
     "cell_type": "code",
     "collapsed": false,
     "input": [
      "_.run()"
     ],
     "language": "python",
     "metadata": {},
     "outputs": [],
     "prompt_number": 35
    },
    {
     "cell_type": "code",
     "collapsed": false,
     "input": [
      "_34.result"
     ],
     "language": "python",
     "metadata": {},
     "outputs": [
      {
       "metadata": {},
       "output_type": "pyout",
       "prompt_number": 37,
       "text": [
        "OrderedDict([('objects', [<MyModel: MyModel object>])])"
       ]
      }
     ],
     "prompt_number": 37
    },
    {
     "cell_type": "code",
     "collapsed": false,
     "input": [
      "@apply_filters()\n",
      "def some_filt(objects, qs):\n",
      "    return []"
     ],
     "language": "python",
     "metadata": {},
     "outputs": [
      {
       "metadata": {},
       "output_type": "pyout",
       "prompt_number": 9,
       "text": [
        "[<MyModel: MyModel object>, <MyModel: MyModel object>]"
       ]
      }
     ],
     "prompt_number": 9
    },
    {
     "cell_type": "code",
     "collapsed": false,
     "input": [
      "qs1 = qs0.filter(Q(a=1))"
     ],
     "language": "python",
     "metadata": {},
     "outputs": [],
     "prompt_number": 21
    },
    {
     "cell_type": "code",
     "collapsed": false,
     "input": [
      "qs2 = qs0.filter(Q(b=2))"
     ],
     "language": "python",
     "metadata": {},
     "outputs": [],
     "prompt_number": 22
    },
    {
     "cell_type": "code",
     "collapsed": false,
     "input": [
      "list(qs1 | qs2)"
     ],
     "language": "python",
     "metadata": {},
     "outputs": [
      {
       "metadata": {},
       "output_type": "pyout",
       "prompt_number": 23,
       "text": [
        "[<MyModel: MyModel object>, <MyModel: MyModel object>]"
       ]
      }
     ],
     "prompt_number": 23
    },
    {
     "cell_type": "code",
     "collapsed": false,
     "input": [
      "qs1"
     ],
     "language": "python",
     "metadata": {},
     "outputs": [
      {
       "metadata": {},
       "output_type": "pyout",
       "prompt_number": 24,
       "text": [
        "[<MyModel: MyModel object>, <MyModel: MyModel object>]"
       ]
      }
     ],
     "prompt_number": 24
    },
    {
     "cell_type": "code",
     "collapsed": false,
     "input": [
      "from aprent.models import MyModel"
     ],
     "language": "python",
     "metadata": {},
     "outputs": [],
     "prompt_number": 7
    },
    {
     "cell_type": "code",
     "collapsed": false,
     "input": [],
     "language": "python",
     "metadata": {},
     "outputs": []
    }
   ],
   "metadata": {}
  }
 ]
}