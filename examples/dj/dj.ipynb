{
 "metadata": {
  "name": "",
  "signature": "sha256:713b17491a930e4a361b68b6af5797a185bfbc183c3d972882e4edd611771478"
 },
 "nbformat": 3,
 "nbformat_minor": 0,
 "worksheets": [
  {
   "cells": [
    {
     "cell_type": "code",
     "collapsed": false,
     "input": [
      "import os\n",
      "os.environ['DJANGO_SETTINGS_MODULE'] = 'dj.settings'\n",
      "import django\n",
      "django.setup()\n",
      "from django import test\n",
      "\n",
      "from appunits.dj import UnitClient\n",
      "uc = UnitClient()"
     ],
     "language": "python",
     "metadata": {},
     "outputs": [],
     "prompt_number": 2
    },
    {
     "cell_type": "code",
     "collapsed": false,
     "input": [
      "uc.get('/viu/', data={'name': 'puh', 'happy': 1}, unit=0)"
     ],
     "language": "python",
     "metadata": {},
     "outputs": [
      {
       "metadata": {},
       "output_type": "pyout",
       "prompt_number": 3,
       "text": [
        "Units run:\n",
        "  0 CatSerializer ReturnDict([('name', 'puh'), ('happy', True)])\n",
        "Units to run:\n",
        "  1 ViewCats      -"
       ]
      }
     ],
     "prompt_number": 3
    },
    {
     "cell_type": "code",
     "collapsed": false,
     "input": [
      "_.go(1)"
     ],
     "language": "python",
     "metadata": {},
     "outputs": [
      {
       "metadata": {},
       "output_type": "pyout",
       "prompt_number": 5,
       "text": [
        "Units run:\n",
        "  0 CatSerializer ReturnDict([('name', 'puh'), ('happy', True)])\n",
        "  1 ViewCats      <django.http.response.JsonResponse at 0x7f63064b8940>"
       ]
      }
     ],
     "prompt_number": 5
    },
    {
     "cell_type": "code",
     "collapsed": false,
     "input": [
      "_.go(0)"
     ],
     "language": "python",
     "metadata": {},
     "outputs": [
      {
       "metadata": {},
       "output_type": "pyout",
       "prompt_number": 6,
       "text": [
        "Units run:\n",
        "  0 CatSerializer ReturnDict([('name', 'puh'), ('happy', True)])\n",
        "Units to run:\n",
        "  1 ViewCats      -"
       ]
      }
     ],
     "prompt_number": 6
    },
    {
     "cell_type": "code",
     "collapsed": false,
     "input": [],
     "language": "python",
     "metadata": {},
     "outputs": []
    }
   ],
   "metadata": {}
  }
 ]
}